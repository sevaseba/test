{
 "cells": [
  {
   "cell_type": "code",
   "execution_count": 1,
   "metadata": {
    "id": "enuEUXaJFZ0C"
   },
   "outputs": [
    {
     "name": "stdout",
     "output_type": "stream",
     "text": [
      "GPU is available\n"
     ]
    }
   ],
   "source": [
    "# What version python do you have \n",
    "import tensorflow.keras\n",
    "import tensorflow as tf\n",
    "import numpy as np\n",
    "import matplotlib.pyplot as plt\n",
    "from time import time \n",
    "from mpl_toolkits.mplot3d import Axes3D\n",
    "import ipywidgets as widgets\n",
    "from IPython.display import display\n",
    "\n",
    "import scipy.optimize\n",
    "from scipy.optimize import minimize\n",
    "\n",
    "check_gpu = len(tf.config.list_physical_devices('GPU'))>0\n",
    "print(\"GPU is\", \"available\" if check_gpu \\\n",
    "      else \"NOT AVAILABLE\" )"
   ]
  },
  {
   "cell_type": "code",
   "execution_count": 2,
   "metadata": {
    "id": "A3yi-G7tfxqW"
   },
   "outputs": [],
   "source": [
    "def plot2D(x, y, z, title=None):\n",
    "    # Graficar\n",
    "    plt.figure(figsize=(7, 6))\n",
    "    cp = plt.contourf(x, y, z, cmap='viridis')\n",
    "    plt.colorbar(cp)\n",
    "    if title is not None:\n",
    "        plt.title(title)\n",
    "    plt.xlabel(r'$x$')\n",
    "    plt.ylabel(r'$y$')\n",
    "    plt.show()"
   ]
  },
  {
   "cell_type": "code",
   "execution_count": 3,
   "metadata": {
    "id": "MOquaeOXuyoe"
   },
   "outputs": [],
   "source": [
    "def plot3D(x, y, z):\n",
    "    fig = plt.figure(figsize=(8, 6))\n",
    "    ax = fig.add_subplot(111, projection='3d')\n",
    "    ax.scatter(x, y, z, c='b', marker='o', alpha=0.5)\n",
    "    ax.set_xlabel(r'$x$')\n",
    "    ax.set_ylabel(r'$y$')\n",
    "    ax.set_zlabel(r'$z$')\n",
    "    plt.show()\n",
    "    return None"
   ]
  },
  {
   "cell_type": "code",
   "execution_count": 4,
   "metadata": {
    "id": "oMD1rtSaslwb"
   },
   "outputs": [],
   "source": [
    "DTYPE = 'float64'\n",
    "tf.keras.backend.set_floatx(DTYPE)"
   ]
  },
  {
   "cell_type": "markdown",
   "metadata": {
    "id": "GBjnL_CCjH12"
   },
   "source": [
    "\\begin{equation}\n",
    "    \\begin{split}\n",
    "        \\frac{\\partial h}{\\partial t} & + H \\left(\\frac{\\partial u}{\\partial x}\n",
    "            + \\frac{\\partial v}{\\partial y} \\right) = 0, \\\\\n",
    "        \\frac{\\partial u}{\\partial t} & - fv = -g \\frac{\\partial h}{\\partial x} - bu, \\\\\n",
    "        \\frac{\\partial v}{\\partial t} & + fu = -g \\frac{\\partial h}{\\partial y} - bv.\n",
    "    \\end{split}\n",
    "\\end{equation}"
   ]
  },
  {
   "cell_type": "code",
   "execution_count": 5,
   "metadata": {
    "colab": {
     "base_uri": "https://localhost:8080/"
    },
    "id": "kJAIbd5mpqm3",
    "outputId": "d2b08348-abe8-48ee-ef56-58e567bbaff2"
   },
   "outputs": [],
   "source": [
    "#drive.mount('/content/drive')"
   ]
  },
  {
   "cell_type": "code",
   "execution_count": 6,
   "metadata": {
    "id": "RU8L1OooqBac"
   },
   "outputs": [],
   "source": [
    "#DIR = '/content/drive/MyDrive/Trabajo/Research/PINNs/data/'\n",
    "#data_dir = DIR + 'swe.npz'\n",
    "data_dir = 'swe.npz'"
   ]
  },
  {
   "cell_type": "code",
   "execution_count": 7,
   "metadata": {
    "id": "TBOiUTlrp_CO"
   },
   "outputs": [],
   "source": [
    "data = np.load(data_dir)"
   ]
  },
  {
   "cell_type": "code",
   "execution_count": 8,
   "metadata": {
    "id": "czB5hMxiFykk"
   },
   "outputs": [],
   "source": [
    "t = data['t']\n",
    "x = data['x'][0]\n",
    "y = data['y'][:,0]\n",
    "h = data['h']\n",
    "u = data['u']\n",
    "v = data['v']"
   ]
  },
  {
   "cell_type": "code",
   "execution_count": 9,
   "metadata": {},
   "outputs": [],
   "source": [
    "#x"
   ]
  },
  {
   "cell_type": "code",
   "execution_count": 10,
   "metadata": {
    "id": "vrqw0MlhsZNt"
   },
   "outputs": [],
   "source": [
    "Nt, Nx, Ny = t.shape[0], x.shape[0], y.shape[0]\n",
    "x_min, x_max = x[0], x[-1]\n",
    "y_min, y_max = y[0], y[-1]\n",
    "t_min, t_max = t[0], t[-1]"
   ]
  },
  {
   "cell_type": "code",
   "execution_count": null,
   "metadata": {
    "id": "j6AdI9C9oapT"
   },
   "outputs": [],
   "source": []
  },
  {
   "cell_type": "code",
   "execution_count": 17,
   "metadata": {
    "id": "UFtbUNEUrqlz"
   },
   "outputs": [],
   "source": [
    "# Inside domain\n",
    "N_f = 8000\n",
    "# Lower bound\n",
    "lb = tf.constant([x_min, y_min, t_min], dtype = DTYPE)\n",
    "# Upper bound\n",
    "ub = tf.constant([x_max, y_max, t_max], dtype = DTYPE)\n",
    "# Arrays\n",
    "x_c = tf.constant(lb[0]+ (ub[0] - lb[0]) * np.random.random(N_f), shape = (N_f, 1), dtype = DTYPE)\n",
    "y_c = tf.constant(lb[1]+ (ub[1] - lb[1]) * np.random.random(N_f), shape = (N_f, 1), dtype = DTYPE)\n",
    "t_c = tf.constant(lb[1]+ (ub[2] - lb[2]) * np.random.random(N_f), shape = (N_f, 1), dtype = DTYPE)\n",
    "# Data inside\n",
    "X_c = tf.concat([x_c, y_c, t_c], axis = 1)"
   ]
  },
  {
   "cell_type": "code",
   "execution_count": 18,
   "metadata": {},
   "outputs": [],
   "source": [
    "#X_c"
   ]
  },
  {
   "cell_type": "code",
   "execution_count": 100,
   "metadata": {
    "id": "SuVF2nGzt68t"
   },
   "outputs": [],
   "source": [
    "# Boundary\n",
    "N_b = 2000\n",
    "\n",
    "# Boundary (x, 0, t) with x in [0, 1]\n",
    "x_1 = tf.constant(lb[0] + (ub[0] - lb[0]) * np.random.random(N_b), shape = (N_b,1), dtype = DTYPE)\n",
    "y_1 = tf.zeros(shape = (N_b, 1), dtype = DTYPE)\n",
    "t_1 = tf.constant(lb[2] + (ub[2] - lb[2]) * np.random.random(N_b), shape = (N_b,1), dtype = DTYPE)\n",
    "X_b_1 = tf.concat([x_1, y_1, t_1], axis = 1)\n",
    "\n",
    "# Boundary (1, y, t) with y in [0, 1]\n",
    "x_2 = tf.ones(shape = (N_b, 1), dtype = DTYPE)\n",
    "y_2 = tf.constant(lb[1] + (ub[1] - lb[1]) * np.random.random(N_b), shape = (N_b,1), dtype = DTYPE)\n",
    "t_2 = tf.constant(lb[2] + (ub[2] - lb[2]) * np.random.random(N_b), shape = (N_b,1), dtype = DTYPE)\n",
    "X_b_2 = tf.concat([x_2, y_2, t_2], axis = 1)\n",
    "\n",
    "# Boundary (x, 1, t) with y in [0, 1]\n",
    "x_3 = tf.constant(lb[0] + (ub[0] - lb[0]) * np.random.random(N_b), shape = (N_b,1), dtype = DTYPE)\n",
    "y_3 = tf.ones(shape = (N_b, 1), dtype = DTYPE)\n",
    "t_3 = tf.constant(lb[2] + (ub[2] - lb[2]) * np.random.random(N_b), shape = (N_b,1), dtype = DTYPE)\n",
    "X_b_3 = tf.concat([x_3, y_3, t_3], axis = 1)\n",
    "\n",
    "# Boundary (0, y, t) with y in [0, 1]\n",
    "x_4 = tf.zeros(shape = (N_b, 1), dtype = DTYPE)\n",
    "y_4 = tf.constant(lb[1] + (ub[1] - lb[1]) * np.random.random(N_b), shape = (N_b,1), dtype = DTYPE)\n",
    "t_4 = tf.constant(lb[2] + (ub[2] - lb[2]) * np.random.random(N_b), shape = (N_b,1), dtype = DTYPE)\n",
    "X_b_4 = tf.concat([x_4, y_4, t_4], axis = 1)\n",
    "\n",
    "\n",
    "# Boundary at t =0 (x, y, 0)\n",
    "#Ns = 32\n",
    "#xs = np.linspace(x_min, x_max, Ns)\n",
    "#ys = np.linspace(y_min, y_max, Ns)\n",
    "#X, Y = np.meshgrid(xs, ys)\n",
    "#x_0 = tf.constant(X.flatten(), shape = (Ns * Ns, 1), dtype = DTYPE)\n",
    "#y_0 = tf.constant(Y.flatten(), shape = (Ns * Ns, 1), dtype = DTYPE)\n",
    "#t_0 = tf.zeros(shape = (Ns * Ns, 1), dtype = DTYPE)\n",
    "#X_b_0 = tf.concat([x_0, y_0, t_0], axis=1)\n",
    "\n",
    "\n",
    "N_s = 2000\n",
    "# Boundary (0, y, t) with y in [0, 1]\n",
    "x_0 = tf.constant(lb[0] + (ub[0] - lb[0]) * np.random.random(N_s), shape = (N_s,1), dtype = DTYPE)\n",
    "y_0 = tf.constant(lb[1] + (ub[1] - lb[1]) * np.random.random(N_s), shape = (N_s,1), dtype = DTYPE)\n",
    "t_0 = tf.zeros(shape = (N_s, 1), dtype = DTYPE)\n",
    "X_b_0 = tf.concat([x_0, y_0, t_0], axis = 1)\n"
   ]
  },
  {
   "cell_type": "code",
   "execution_count": 101,
   "metadata": {},
   "outputs": [
    {
     "data": {
      "application/vnd.jupyter.widget-view+json": {
       "model_id": "05e51bd96a4c4b2aa775f617ce96b869",
       "version_major": 2,
       "version_minor": 0
      },
      "text/plain": [
       "interactive(children=(FloatSlider(value=0.0, description='Azimut:', max=360.0, step=1.0), FloatSlider(value=30…"
      ]
     },
     "metadata": {},
     "output_type": "display_data"
    }
   ],
   "source": [
    "#Grafico Dominio\n",
    "def plot_3d(azim, elev):\n",
    "    fig = plt.figure(figsize=(10, 8))\n",
    "    ax = fig.add_subplot(111, projection='3d')\n",
    "    ax.view_init(elev=elev, azim=azim)\n",
    "    ax.scatter(x_1, y_1, t_1, c='g', label=\"X_b_1\", s=5)\n",
    "    ax.scatter(x_2, y_2, t_2, c='g', label=\"X_b_2\", s=5)\n",
    "    ax.scatter(x_3, y_3, t_3, c='g', label=\"X_b_3\", s=5)\n",
    "    ax.scatter(x_4, y_4, t_4, c='g', label=\"X_b_4\", s=5)\n",
    "    ax.scatter(x_c, y_c, t_c, c='b', label=\"X_c\", s=5)\n",
    "    ax.scatter(x_0, y_0, t_0, c='r', label=\"X_0\", s=5)\n",
    "    ax.set_xlabel(\"x\")\n",
    "    ax.set_ylabel(\"y\")\n",
    "    ax.set_zlabel(\"t\")\n",
    "    ax.set_title(\"Scatter Plot en R3 de los conjuntos\")\n",
    "    ax.legend()\n",
    "    ax.grid(True)\n",
    "    plt.show()\n",
    "\n",
    "# Deslizadores\n",
    "azim_slider = widgets.FloatSlider(value=0, min=0, max=360, step=1, description=\"Azimut:\")\n",
    "elev_slider = widgets.FloatSlider(value=30, min=0, max=90, step=1, description=\"Elevación:\")\n",
    "\n",
    "widgets.interactive(plot_3d, azim=azim_slider, elev=elev_slider)"
   ]
  },
  {
   "cell_type": "code",
   "execution_count": 102,
   "metadata": {
    "id": "vwYxouLOz3x5"
   },
   "outputs": [],
   "source": [
    "#h0 = lambda x, y: 1 + tf.exp(-((x-0.5) ** 2 + (y-0.5) ** 2) / .01)\n",
    "#h0 = lambda x, y: 1 +  .1 * tf.cast(tf.sqrt((x - .5)**2 + (y - .5)**2) <= .25, tf.float64) # Con el tf.cast pude cambiar el bool a float :)\n",
    "#u0 = lambda x, y: x * 0\n",
    "#v0 = lambda x, y: x * 0"
   ]
  },
  {
   "cell_type": "markdown",
   "metadata": {},
   "source": [
    "## Condición Inical"
   ]
  },
  {
   "cell_type": "code",
   "execution_count": 111,
   "metadata": {},
   "outputs": [],
   "source": [
    "#def h_0(X):\n",
    "#    x, y, t  = X[:,0:1], X[:,1:2], X[:,2:3]\n",
    "#    return 1.0 +  .1 * tf.sqrt((x - .5)**2 + (y - .5)**2 <= .25)\n",
    "\n",
    "def h_0(X):\n",
    "    x, y, t = X[:, 0:1], X[:, 1:2], X[:, 2:3]\n",
    "    distance = tf.sqrt((x - 0.5)**2 + (y - 0.5)**2)\n",
    "    return 1.0 + 0.1 * tf.nn.relu(0.25 - distance)\n",
    "\n",
    "\n",
    "def u_0(X):\n",
    "    x, y, t  = X[:,0:1], X[:,1:2], X[:,2:3]\n",
    "    return tf.constant(0.0, dtype = DTYPE)\n",
    "\n",
    "def v_0(X):\n",
    "    x, y, t  = X[:,0:1], X[:,1:2], X[:,2:3]\n",
    "    return tf.constant(0.0, dtype = DTYPE)\n"
   ]
  },
  {
   "cell_type": "code",
   "execution_count": 112,
   "metadata": {
    "colab": {
     "base_uri": "https://localhost:8080/",
     "height": 501
    },
    "id": "QeJ_1Msy0I-4",
    "outputId": "18640345-1105-4d6b-d708-52dbb4126f49"
   },
   "outputs": [
    {
     "data": {
      "image/png": "[encoded data removed]",
      "text/plain": [
       "<Figure size 576x432 with 1 Axes>"
      ]
     },
     "metadata": {
      "needs_background": "light"
     },
     "output_type": "display_data"
    }
   ],
   "source": [
    "plot3D(X_b_0[:,0:1], X_b_0[:,1:2], h_0(X_b_0))"
   ]
  },
  {
   "cell_type": "code",
   "execution_count": 113,
   "metadata": {},
   "outputs": [
    {
     "data": {
      "image/png": "[encoded data removed]",
      "text/plain": [
       "<Figure size 504x432 with 2 Axes>"
      ]
     },
     "metadata": {
      "needs_background": "light"
     },
     "output_type": "display_data"
    }
   ],
   "source": [
    "import numpy as np\n",
    "import matplotlib.pyplot as plt\n",
    "import tensorflow as tf\n",
    "\n",
    "# Suponiendo que X_b_0 y la función h_0 ya están definidas\n",
    "\n",
    "# Crear una malla de coordenadas 2D\n",
    "x = np.linspace(np.min(X_b_0[:,0]), np.max(X_b_0[:,0]), 100)\n",
    "y = np.linspace(np.min(X_b_0[:,1]), np.max(X_b_0[:,1]), 100)\n",
    "X, Y = np.meshgrid(x, y)\n",
    "\n",
    "# Evaluar la función h_0 en la malla\n",
    "Z_tensor = h_0(np.hstack([X.reshape(-1, 1), Y.reshape(-1, 1), np.zeros((X.size, 1))]))\n",
    "Z = Z_tensor.numpy().reshape(X.shape)  # Convertir a NumPy y cambiar la forma\n",
    "\n",
    "# Graficar\n",
    "plt.figure(figsize=(7, 6))\n",
    "cp = plt.contourf(X, Y, Z, cmap='viridis')\n",
    "plt.colorbar(cp, extend='both')\n",
    "plt.xlabel(r'$x$')\n",
    "plt.ylabel(r'$y$')\n",
    "plt.show()\n"
   ]
  },
  {
   "cell_type": "code",
   "execution_count": 114,
   "metadata": {
    "id": "JJ8Y9zjAxJ6U"
   },
   "outputs": [],
   "source": [
    "# PDE\n",
    "g = 1.0\n",
    "H = 0.5\n",
    "b = 2.0\n",
    "f = 0.0\n",
    "def PDE(h, u, v, dh_dx, dh_dy, dh_dt, du_dx, du_dy, du_dt, dv_dx, dv_dy, dv_dt):\n",
    "    PDE1 = dh_dt + H * (du_dx + dv_dy)\n",
    "    PDE2 = du_dt + g * dh_dx + b * u - f * v\n",
    "    PDE3 = dv_dt + g * dh_dy + b * v + f * u\n",
    "    return PDE1, PDE2, PDE3"
   ]
  },
  {
   "cell_type": "code",
   "execution_count": 115,
   "metadata": {
    "id": "tcDC271H2SKZ"
   },
   "outputs": [],
   "source": [
    "def get_derivatives(model, X):\n",
    "    x, y, t  = X[:,0:1], X[:,1:2], X[:, 2:3]\n",
    "    with tf.GradientTape(persistent = True) as tape:\n",
    "        tape.watch(x)\n",
    "        tape.watch(y)\n",
    "        tape.watch(t)\n",
    "        h = model(tf.concat([x, y, t], axis = 1))[:, 0:1]\n",
    "        u = model(tf.concat([x, y, t], axis = 1))[:, 1:2]\n",
    "        v = model(tf.concat([x, y, t], axis = 1))[:, 2:3]\n",
    "    dh_dx = tape.gradient(h, x)\n",
    "    dh_dy = tape.gradient(h, y)\n",
    "    dh_dt = tape.gradient(h, t)\n",
    "    du_dx = tape.gradient(u, x)\n",
    "    du_dy = tape.gradient(u, y)\n",
    "    du_dt = tape.gradient(u, t)\n",
    "    dv_dx = tape.gradient(v, x)\n",
    "    dv_dy = tape.gradient(v, y)\n",
    "    dv_dt = tape.gradient(v, t)\n",
    "    return h, u, v, dh_dx, dh_dy, dh_dt, du_dx, du_dy, du_dt, dv_dx, dv_dy, dv_dt"
   ]
  },
  {
   "cell_type": "code",
   "execution_count": 116,
   "metadata": {},
   "outputs": [],
   "source": [
    "#get_derivatives(nn, X_c)"
   ]
  },
  {
   "cell_type": "code",
   "execution_count": 117,
   "metadata": {
    "id": "-U7moV3Luvr_"
   },
   "outputs": [],
   "source": [
    "# Boundary conditions\n",
    "def boundary_1(model, X):\n",
    "    h, u, v, dh_dx, dh_dy, dh_dt, du_dx, du_dy, du_dt, dv_dx, dv_dy, dv_dt = get_derivatives(model, X)\n",
    "    return -dh_dy - 0.0, -du_dy - 0.0, -dv_dy - 0.0\n",
    "\n",
    "def boundary_2(model, X):\n",
    "    h, u, v, dh_dx, dh_dy, dh_dt, du_dx, du_dy, du_dt, dv_dx, dv_dy, dv_dt = get_derivatives(model, X)\n",
    "    return dh_dx - 0.0, du_dx - 0.0, dv_dx - 0.0\n",
    "\n",
    "def boundary_3(model, X):\n",
    "    h, u, v, dh_dx, dh_dy, dh_dt, du_dx, du_dy, du_dt, dv_dx, dv_dy, dv_dt = get_derivatives(model, X)\n",
    "    return dh_dy - 0.0, du_dy - 0.0, dv_dy - 0.0\n",
    "\n",
    "def boundary_4(model, X):\n",
    "    h, u, v, dh_dx, dh_dy, dh_dt, du_dx, du_dy, du_dt, dv_dx, dv_dy, dv_dt = get_derivatives(model, X)\n",
    "    return -dh_dx - 0.0, -du_dx - 0.0, -dv_dx - 0.0\n",
    "\n",
    "def boundary_conditions(model, X_1, X_2, X_3, X_4):\n",
    "    b11, b12, b13 = boundary_1(model, X_1)\n",
    "    b21, b22, b23 = boundary_2(model, X_2)\n",
    "    b31, b32, b33 = boundary_3(model, X_3)\n",
    "    b41, b42, b43 = boundary_4(model, X_4)\n",
    "    return b11, b12, b13, b21, b22, b23, b31, b32, b33, b41, b42, b43\n"
   ]
  },
  {
   "cell_type": "code",
   "execution_count": 118,
   "metadata": {},
   "outputs": [],
   "source": [
    "#boundary_conditions(nn, X_b_1, X_b_2, X_b_3, X_b_4)"
   ]
  },
  {
   "cell_type": "code",
   "execution_count": 119,
   "metadata": {
    "id": "ulWF5DcAu-gi"
   },
   "outputs": [],
   "source": [
    "def custom_loss_r(model, X):\n",
    "    h, u, v, dh_dx, dh_dy, dh_dt, du_dx, du_dy, du_dt, dv_dx, dv_dy, dv_dt = get_derivatives(model, X)\n",
    "    phi_r_1, phi_r_2, phi_r_3 = PDE(h, u, v, dh_dx, dh_dy, dh_dt, du_dx, du_dy, du_dt, dv_dx, dv_dy, dv_dt)\n",
    "    loss_r1 = tf.reduce_mean(tf.square(phi_r_1))\n",
    "    loss_r2 = tf.reduce_mean(tf.square(phi_r_2))\n",
    "    loss_r3 = tf.reduce_mean(tf.square(phi_r_3))\n",
    "    loss_r = loss_r1 + loss_r2 + loss_r3\n",
    "    return loss_r"
   ]
  },
  {
   "cell_type": "code",
   "execution_count": 120,
   "metadata": {},
   "outputs": [],
   "source": [
    "#custom_loss_r(nn, X_c)"
   ]
  },
  {
   "cell_type": "code",
   "execution_count": 121,
   "metadata": {
    "id": "Y4YXpSaA6qNr"
   },
   "outputs": [],
   "source": [
    "def custom_loss_m(model, X_1, X_2, X_3, X_4):\n",
    "    \n",
    "    b11, b12, b13, b21, b22, b23, b31, b32, b33, b41, b42, b43 = boundary_conditions(model, X_1, X_2, X_3, X_4)\n",
    "    loss_b_11 = tf.reduce_mean(tf.square(b11))\n",
    "    loss_b_12 = tf.reduce_mean(tf.square(b12))\n",
    "    loss_b_13 = tf.reduce_mean(tf.square(b13))\n",
    "    loss_b_21 = tf.reduce_mean(tf.square(b21))\n",
    "    loss_b_22 = tf.reduce_mean(tf.square(b22))\n",
    "    loss_b_23 = tf.reduce_mean(tf.square(b23))\n",
    "    loss_b_31 = tf.reduce_mean(tf.square(b31))\n",
    "    loss_b_32 = tf.reduce_mean(tf.square(b32))\n",
    "    loss_b_33 = tf.reduce_mean(tf.square(b33))\n",
    "    loss_b_41 = tf.reduce_mean(tf.square(b41))\n",
    "    loss_b_42 = tf.reduce_mean(tf.square(b42))\n",
    "    loss_b_43 = tf.reduce_mean(tf.square(b43))\n",
    "    \n",
    "    loss_m = loss_b_11 + loss_b_12 + loss_b_13 + loss_b_21 + loss_b_22 + loss_b_23 + loss_b_31 + loss_b_32 + loss_b_33 + loss_b_41 + loss_b_42 + loss_b_43\n",
    "    return loss_m"
   ]
  },
  {
   "cell_type": "code",
   "execution_count": 122,
   "metadata": {
    "id": "sD1KRdRE66h9"
   },
   "outputs": [],
   "source": [
    "def custom_loss_i(model, X_0):\n",
    "    #x, y, t  = X_0[:,0:1], X_0[:,1:2], X_0[:, 2:3]\n",
    "    loss_ih = tf.reduce_mean(tf.square(model(X_0)[:, 0:1] - h_0(X_0)))\n",
    "    loss_iu = tf.reduce_mean(tf.square(model(X_0)[:, 1:2] - u_0(X_0)))\n",
    "    loss_iv = tf.reduce_mean(tf.square(model(X_0)[:, 2:3] - v_0(X_0)))\n",
    "    loss_i = loss_ih + loss_iu + loss_iv\n",
    "    return 100*loss_i"
   ]
  },
  {
   "cell_type": "code",
   "execution_count": 123,
   "metadata": {
    "id": "1YLrkLEHvjw2"
   },
   "outputs": [],
   "source": [
    "def compute_loss(model, X, X_0, X_1, X_2, X_3, X_4):\n",
    "    loss_r = custom_loss_r(model, X)\n",
    "    loss_m = custom_loss_m(model, X_1, X_2, X_3, X_4)\n",
    "    loss_i = custom_loss_i(model, X_0)\n",
    "    loss = loss_r + loss_m + loss_i\n",
    "    return loss, loss_r, loss_m, loss_i"
   ]
  },
  {
   "cell_type": "code",
   "execution_count": 124,
   "metadata": {},
   "outputs": [],
   "source": [
    "def get_grad_loss(model, X, X_0, X_1, X_2, X_3, X_4):\n",
    "    with tf.GradientTape(persistent = True) as tape:\n",
    "        tape.watch(model.trainable_variables)\n",
    "        loss, loss_r, loss_m, loss_i = compute_loss(model, X, X_0, X_1, X_2, X_3, X_4)\n",
    "    g = tape.gradient(loss, model.trainable_variables)\n",
    "    return loss, g, loss_r, loss_m, loss_i"
   ]
  },
  {
   "cell_type": "code",
   "execution_count": 125,
   "metadata": {},
   "outputs": [
    {
     "name": "stdout",
     "output_type": "stream",
     "text": [
      "Model: \"sequential_5\"\n",
      "_________________________________________________________________\n",
      " Layer (type)                Output Shape              Param #   \n",
      "=================================================================\n",
      " dense_30 (Dense)            (None, 60)                240       \n",
      "                                                                 \n",
      " dense_31 (Dense)            (None, 60)                3660      \n",
      "                                                                 \n",
      " dense_32 (Dense)            (None, 60)                3660      \n",
      "                                                                 \n",
      " dense_33 (Dense)            (None, 60)                3660      \n",
      "                                                                 \n",
      " dense_34 (Dense)            (None, 60)                3660      \n",
      "                                                                 \n",
      " dense_35 (Dense)            (None, 3)                 183       \n",
      "                                                                 \n",
      "=================================================================\n",
      "Total params: 15,063\n",
      "Trainable params: 15,063\n",
      "Non-trainable params: 0\n",
      "_________________________________________________________________\n"
     ]
    }
   ],
   "source": [
    "def init_model(num_hidden_layers=5, num_neurons_per_layer=60):\n",
    "    with tf.device('/cpu:0'):  # Forzar el uso de la CPU\n",
    "        model = tf.keras.Sequential()\n",
    "        model.add(tf.keras.Input(3))\n",
    "        \n",
    "        for _ in range(num_hidden_layers):\n",
    "            model.add(tf.keras.layers.Dense(num_neurons_per_layer, \n",
    "                                            activation=tf.keras.activations.get('tanh'),\n",
    "                                            kernel_initializer='he_normal'))  # Cambio a he_normal\n",
    "        \n",
    "        model.add(tf.keras.layers.Dense(3))\n",
    "        \n",
    "    return model\n",
    "\n",
    "nn = init_model()\n",
    "nn.summary()"
   ]
  },
  {
   "cell_type": "code",
   "execution_count": 128,
   "metadata": {},
   "outputs": [
    {
     "name": "stdout",
     "output_type": "stream",
     "text": [
      "Model: \"sequential_7\"\n",
      "_________________________________________________________________\n",
      " Layer (type)                Output Shape              Param #   \n",
      "=================================================================\n",
      " dense_42 (Dense)            (None, 60)                240       \n",
      "                                                                 \n",
      " dense_43 (Dense)            (None, 60)                3660      \n",
      "                                                                 \n",
      " dense_44 (Dense)            (None, 60)                3660      \n",
      "                                                                 \n",
      " dense_45 (Dense)            (None, 60)                3660      \n",
      "                                                                 \n",
      " dense_46 (Dense)            (None, 60)                3660      \n",
      "                                                                 \n",
      " dense_47 (Dense)            (None, 3)                 183       \n",
      "                                                                 \n",
      "=================================================================\n",
      "Total params: 15,063\n",
      "Trainable params: 15,063\n",
      "Non-trainable params: 0\n",
      "_________________________________________________________________\n"
     ]
    }
   ],
   "source": [
    "def init_model(num_hidden_layers=5, num_neurons_per_layer=60):\n",
    "    model = tf.keras.Sequential()\n",
    "    model.add(tf.keras.Input(3))\n",
    "\n",
    "    for _ in range(num_hidden_layers):\n",
    "        model.add(tf.keras.layers.Dense(num_neurons_per_layer, \n",
    "                                        activation=tf.keras.activations.get('tanh'),\n",
    "                                        kernel_initializer='he_normal'))  # Cambio a he_normal\n",
    "\n",
    "    model.add(tf.keras.layers.Dense(3))\n",
    "\n",
    "    return model\n",
    "\n",
    "nn = init_model()\n",
    "nn.summary()"
   ]
  },
  {
   "cell_type": "code",
   "execution_count": 129,
   "metadata": {},
   "outputs": [],
   "source": [
    "#optimizador L-BGFS\n",
    "def get_weight_tensor(model):\n",
    "    \"\"\"Función para devolver las variables actuales del modelo\n",
    "    como tensor 1D, así como las formas correspondientes en listas.\"\"\"\n",
    "    weight_list = []\n",
    "    shape_list = []\n",
    "    for v in model.variables:\n",
    "        shape_list.append(v.shape)\n",
    "        weight_list.extend(v.numpy().flatten())\n",
    "    weight_list = tf.convert_to_tensor(weight_list)\n",
    "    return weight_list, shape_list\n",
    "\n",
    "def set_weight_tensor(model, weight_list):\n",
    "    \"\"\"Función que establece una lista de pesos para las variables en el modelo.\"\"\"\n",
    "    idx = 0\n",
    "    for v in model.variables:\n",
    "        vs = v.shape\n",
    "        if len(vs) == 2:  \n",
    "            sw = vs[0]*vs[1]\n",
    "            new_val = tf.reshape(weight_list[idx:idx+sw],(vs[0],vs[1]))\n",
    "            idx += sw\n",
    "        elif len(vs) == 1:\n",
    "            new_val = weight_list[idx:idx+vs[0]]\n",
    "            idx += vs[0]\n",
    "        elif len(vs) == 0:\n",
    "            new_val = weight_list[idx]\n",
    "            idx += 1\n",
    "        v.assign(tf.cast(new_val, DTYPE))\n",
    "        \n",
    "def get_loss_and_grad(w):\n",
    "    \"\"\"Función que proporciona la pérdida actual y el gradiente \n",
    "    con respecto a las variables entrenables como vector.\"\"\"\n",
    "    set_weight_tensor(nn, w)\n",
    "    loss, grad_theta, loss_r, loss_m, loss_i  = get_grad_loss(nn, X_c, X_b_0, X_b_1, X_b_2, X_b_3, X_b_4)\n",
    "    loss = loss.numpy().astype(np.float64)\n",
    "    grad_flat = []\n",
    "    for g in grad_theta:\n",
    "        grad_flat.extend(g.numpy().flatten())\n",
    "    grad_flat = np.array(grad_flat,dtype=np.float64)\n",
    "    return loss, grad_flat, loss_r, loss_m, loss_i"
   ]
  },
  {
   "cell_type": "code",
   "execution_count": 130,
   "metadata": {},
   "outputs": [],
   "source": [
    "#def plot_loss_history(ax=None):\n",
    "#    if not ax:\n",
    "#        fig = plt.figure(figsize=(7,5))\n",
    "#        ax = fig.add_subplot(111)\n",
    "#    ax.semilogy(range(len(loss_history)), loss_history, 'k-')\n",
    "#    ax.set_xlabel('$n_{epoch}$')\n",
    "#    ax.set_ylabel('$\\\\phi^{n_{epoch}}$')\n",
    "#    plt.show()\n",
    "    \n",
    "def callback(w):\n",
    "    loss_value, _, loss_r_value, loss_m_value, loss_i_value = get_loss_and_grad(w)\n",
    "    #loss_history.append(loss_value)\n",
    "    #hist.append(loss_value)\n",
    "    #hist_e.append(loss_e_value)\n",
    "    #hist_m.append(loss_m_value)\n",
    "    \n",
    "    loss_hist.append(loss_value)\n",
    "    loss_r_hist.append(loss_r_value)\n",
    "    loss_m_hist.append(loss_m_value)\n",
    "    loss_i_hist.append(loss_i_value)\n",
    "    if len(loss_hist) % 500 == 0:\n",
    "        #print(f\"Iteration {len(hist)}: Loss = {loss_value:.6e}\")\n",
    "        #print('It {len(hist):05d}: loss = {:10.8e}, loss_e = {:10.8e}, loss_m = {:10.8e}'.format(i, loss, loss_e, loss_m))\n",
    "        print(f\"Iteration {len(loss_hist):05d}: Loss = {loss_value:.6e}, Loss_r = {loss_r_value:.6e}, Loss_m = {loss_m_value:.6e}, Loss_i = {loss_i_value:.6e}\")\n",
    "\n",
    "\n"
   ]
  },
  {
   "cell_type": "code",
   "execution_count": 131,
   "metadata": {},
   "outputs": [],
   "source": [
    "learning_rate = 0.01\n",
    "optim = tf.keras.optimizers.Adam(learning_rate)"
   ]
  },
  {
   "cell_type": "code",
   "execution_count": 132,
   "metadata": {
    "id": "kw2ypdA96g7-"
   },
   "outputs": [],
   "source": [
    "# Optimizador inicial con tasa de aprendizaje de 0.01\n",
    "\n",
    "\n",
    "#Actualización de los pesos de model\n",
    "@tf.function\n",
    "def train_step(model, X, X_0, X_1, X_2, X_3, X_4):\n",
    "    loss, grad_theta, loss_r, loss_m, loss_i = get_grad_loss(model, X, X_0, X_1, X_2, X_3, X_4)\n",
    "\n",
    "    #Realizar paso del descenso de gradiente\n",
    "    optim.apply_gradients(zip(grad_theta, model.trainable_variables))\n",
    "    return loss, loss_r, loss_m, loss_i"
   ]
  },
  {
   "cell_type": "code",
   "execution_count": 133,
   "metadata": {},
   "outputs": [],
   "source": [
    "#train_step(nn, X_c, X_b_0, X_b_1, X_b_2, X_b_3, X_b_4)"
   ]
  },
  {
   "cell_type": "code",
   "execution_count": 134,
   "metadata": {},
   "outputs": [],
   "source": [
    "#instanciar modelo\n",
    "#nn = init_model()"
   ]
  },
  {
   "cell_type": "code",
   "execution_count": 135,
   "metadata": {},
   "outputs": [],
   "source": [
    "#cargar modelo pre entrenado \n",
    "#nn.load_weights('modelo_1_28Oct.h5')"
   ]
  },
  {
   "cell_type": "code",
   "execution_count": 136,
   "metadata": {},
   "outputs": [],
   "source": [
    "import time\n",
    "\n",
    "loss_hist = []\n",
    "loss_r_hist = []\n",
    "loss_m_hist = []\n",
    "loss_i_hist = []"
   ]
  },
  {
   "cell_type": "code",
   "execution_count": 137,
   "metadata": {},
   "outputs": [
    {
     "ename": "InvalidArgumentError",
     "evalue": "Cannot assign a device for operation sequential_7/dense_42/MatMul/ReadVariableOp: Could not satisfy explicit device specification '' because the node {{colocation_node sequential_7/dense_42/MatMul/ReadVariableOp}} was colocated with a group of nodes that required incompatible device '/job:localhost/replica:0/task:0/device:GPU:0'. All available devices [/job:localhost/replica:0/task:0/device:CPU:0, /job:localhost/replica:0/task:0/device:GPU:0]. \nColocation Debug Info:\nColocation group had the following types and supported devices: \nRoot Member(assigned_device_name_index_=2 requested_device_name_='/job:localhost/replica:0/task:0/device:GPU:0' assigned_device_name_='/job:localhost/replica:0/task:0/device:GPU:0' resource_device_name_='/job:localhost/replica:0/task:0/device:GPU:0' supported_device_types_=[CPU] possible_devices_=[]\nReadVariableOp: GPU CPU \nResourceApplyAdam: CPU \n_Arg: GPU CPU \n\nColocation members, user-requested devices, and framework assigned devices, if any:\n  sequential_7_dense_42_matmul_readvariableop_resource (_Arg)  framework assigned device=/job:localhost/replica:0/task:0/device:GPU:0\n  adam_adam_update_resourceapplyadam_m (_Arg)  framework assigned device=/job:localhost/replica:0/task:0/device:GPU:0\n  adam_adam_update_resourceapplyadam_v (_Arg)  framework assigned device=/job:localhost/replica:0/task:0/device:GPU:0\n  sequential_7/dense_42/MatMul/ReadVariableOp (ReadVariableOp) \n  sequential_7/dense_42/MatMul_1/ReadVariableOp (ReadVariableOp) \n  sequential_7/dense_42/MatMul_2/ReadVariableOp (ReadVariableOp) \n  sequential_7/dense_42/MatMul_3/ReadVariableOp (ReadVariableOp) \n  sequential_7/dense_42/MatMul_4/ReadVariableOp (ReadVariableOp) \n  sequential_7/dense_42/MatMul_5/ReadVariableOp (ReadVariableOp) \n  sequential_7/dense_42/MatMul_6/ReadVariableOp (ReadVariableOp) \n  sequential_7/dense_42/MatMul_7/ReadVariableOp (ReadVariableOp) \n  sequential_7/dense_42/MatMul_8/ReadVariableOp (ReadVariableOp) \n  sequential_7/dense_42/MatMul_9/ReadVariableOp (ReadVariableOp) \n  sequential_7/dense_42/MatMul_10/ReadVariableOp (ReadVariableOp) \n  sequential_7/dense_42/MatMul_11/ReadVariableOp (ReadVariableOp) \n  sequential_7/dense_42/MatMul_12/ReadVariableOp (ReadVariableOp) \n  sequential_7/dense_42/MatMul_13/ReadVariableOp (ReadVariableOp) \n  sequential_7/dense_42/MatMul_14/ReadVariableOp (ReadVariableOp) \n  sequential_7/dense_42/MatMul_15/ReadVariableOp (ReadVariableOp) \n  sequential_7/dense_42/MatMul_16/ReadVariableOp (ReadVariableOp) \n  sequential_7/dense_42/MatMul_17/ReadVariableOp (ReadVariableOp) \n  Adam/Adam/update/ResourceApplyAdam (ResourceApplyAdam) /job:localhost/replica:0/task:0/device:GPU:0\n\n\t [[{{node sequential_7/dense_42/MatMul/ReadVariableOp}}]] [Op:__inference_train_step_58414]",
     "output_type": "error",
     "traceback": [
      "\u001b[0;31m---------------------------------------------------------------------------\u001b[0m",
      "\u001b[0;31mInvalidArgumentError\u001b[0m                      Traceback (most recent call last)",
      "Input \u001b[0;32mIn [137]\u001b[0m, in \u001b[0;36m<cell line: 8>\u001b[0;34m()\u001b[0m\n\u001b[1;32m      6\u001b[0m \u001b[38;5;66;03m# Función de entrenamiento\u001b[39;00m\n\u001b[1;32m      8\u001b[0m \u001b[38;5;28;01mfor\u001b[39;00m i \u001b[38;5;129;01min\u001b[39;00m \u001b[38;5;28mrange\u001b[39m(N\u001b[38;5;241m+\u001b[39m\u001b[38;5;241m1\u001b[39m):\n\u001b[0;32m----> 9\u001b[0m     loss, loss_r, loss_m, loss_i \u001b[38;5;241m=\u001b[39m \u001b[43mtrain_step\u001b[49m\u001b[43m(\u001b[49m\u001b[43mnn\u001b[49m\u001b[43m,\u001b[49m\u001b[43m \u001b[49m\u001b[43mX_c\u001b[49m\u001b[43m,\u001b[49m\u001b[43m \u001b[49m\u001b[43mX_b_0\u001b[49m\u001b[43m,\u001b[49m\u001b[43m \u001b[49m\u001b[43mX_b_1\u001b[49m\u001b[43m,\u001b[49m\u001b[43m \u001b[49m\u001b[43mX_b_2\u001b[49m\u001b[43m,\u001b[49m\u001b[43m \u001b[49m\u001b[43mX_b_3\u001b[49m\u001b[43m,\u001b[49m\u001b[43m \u001b[49m\u001b[43mX_b_4\u001b[49m\u001b[43m)\u001b[49m\n\u001b[1;32m     10\u001b[0m     loss_hist\u001b[38;5;241m.\u001b[39mappend(loss\u001b[38;5;241m.\u001b[39mnumpy())\n\u001b[1;32m     11\u001b[0m     loss_r_hist\u001b[38;5;241m.\u001b[39mappend(loss_r\u001b[38;5;241m.\u001b[39mnumpy())\n",
      "File \u001b[0;32m~/miniforge3/envs/env_tf/lib/python3.9/site-packages/tensorflow/python/util/traceback_utils.py:153\u001b[0m, in \u001b[0;36mfilter_traceback.<locals>.error_handler\u001b[0;34m(*args, **kwargs)\u001b[0m\n\u001b[1;32m    151\u001b[0m \u001b[38;5;28;01mexcept\u001b[39;00m \u001b[38;5;167;01mException\u001b[39;00m \u001b[38;5;28;01mas\u001b[39;00m e:\n\u001b[1;32m    152\u001b[0m   filtered_tb \u001b[38;5;241m=\u001b[39m _process_traceback_frames(e\u001b[38;5;241m.\u001b[39m__traceback__)\n\u001b[0;32m--> 153\u001b[0m   \u001b[38;5;28;01mraise\u001b[39;00m e\u001b[38;5;241m.\u001b[39mwith_traceback(filtered_tb) \u001b[38;5;28;01mfrom\u001b[39;00m \u001b[38;5;28mNone\u001b[39m\n\u001b[1;32m    154\u001b[0m \u001b[38;5;28;01mfinally\u001b[39;00m:\n\u001b[1;32m    155\u001b[0m   \u001b[38;5;28;01mdel\u001b[39;00m filtered_tb\n",
      "File \u001b[0;32m~/miniforge3/envs/env_tf/lib/python3.9/site-packages/tensorflow/python/eager/execute.py:54\u001b[0m, in \u001b[0;36mquick_execute\u001b[0;34m(op_name, num_outputs, inputs, attrs, ctx, name)\u001b[0m\n\u001b[1;32m     52\u001b[0m \u001b[38;5;28;01mtry\u001b[39;00m:\n\u001b[1;32m     53\u001b[0m   ctx\u001b[38;5;241m.\u001b[39mensure_initialized()\n\u001b[0;32m---> 54\u001b[0m   tensors \u001b[38;5;241m=\u001b[39m pywrap_tfe\u001b[38;5;241m.\u001b[39mTFE_Py_Execute(ctx\u001b[38;5;241m.\u001b[39m_handle, device_name, op_name,\n\u001b[1;32m     55\u001b[0m                                       inputs, attrs, num_outputs)\n\u001b[1;32m     56\u001b[0m \u001b[38;5;28;01mexcept\u001b[39;00m core\u001b[38;5;241m.\u001b[39m_NotOkStatusException \u001b[38;5;28;01mas\u001b[39;00m e:\n\u001b[1;32m     57\u001b[0m   \u001b[38;5;28;01mif\u001b[39;00m name \u001b[38;5;129;01mis\u001b[39;00m \u001b[38;5;129;01mnot\u001b[39;00m \u001b[38;5;28;01mNone\u001b[39;00m:\n",
      "\u001b[0;31mInvalidArgumentError\u001b[0m: Cannot assign a device for operation sequential_7/dense_42/MatMul/ReadVariableOp: Could not satisfy explicit device specification '' because the node {{colocation_node sequential_7/dense_42/MatMul/ReadVariableOp}} was colocated with a group of nodes that required incompatible device '/job:localhost/replica:0/task:0/device:GPU:0'. All available devices [/job:localhost/replica:0/task:0/device:CPU:0, /job:localhost/replica:0/task:0/device:GPU:0]. \nColocation Debug Info:\nColocation group had the following types and supported devices: \nRoot Member(assigned_device_name_index_=2 requested_device_name_='/job:localhost/replica:0/task:0/device:GPU:0' assigned_device_name_='/job:localhost/replica:0/task:0/device:GPU:0' resource_device_name_='/job:localhost/replica:0/task:0/device:GPU:0' supported_device_types_=[CPU] possible_devices_=[]\nReadVariableOp: GPU CPU \nResourceApplyAdam: CPU \n_Arg: GPU CPU \n\nColocation members, user-requested devices, and framework assigned devices, if any:\n  sequential_7_dense_42_matmul_readvariableop_resource (_Arg)  framework assigned device=/job:localhost/replica:0/task:0/device:GPU:0\n  adam_adam_update_resourceapplyadam_m (_Arg)  framework assigned device=/job:localhost/replica:0/task:0/device:GPU:0\n  adam_adam_update_resourceapplyadam_v (_Arg)  framework assigned device=/job:localhost/replica:0/task:0/device:GPU:0\n  sequential_7/dense_42/MatMul/ReadVariableOp (ReadVariableOp) \n  sequential_7/dense_42/MatMul_1/ReadVariableOp (ReadVariableOp) \n  sequential_7/dense_42/MatMul_2/ReadVariableOp (ReadVariableOp) \n  sequential_7/dense_42/MatMul_3/ReadVariableOp (ReadVariableOp) \n  sequential_7/dense_42/MatMul_4/ReadVariableOp (ReadVariableOp) \n  sequential_7/dense_42/MatMul_5/ReadVariableOp (ReadVariableOp) \n  sequential_7/dense_42/MatMul_6/ReadVariableOp (ReadVariableOp) \n  sequential_7/dense_42/MatMul_7/ReadVariableOp (ReadVariableOp) \n  sequential_7/dense_42/MatMul_8/ReadVariableOp (ReadVariableOp) \n  sequential_7/dense_42/MatMul_9/ReadVariableOp (ReadVariableOp) \n  sequential_7/dense_42/MatMul_10/ReadVariableOp (ReadVariableOp) \n  sequential_7/dense_42/MatMul_11/ReadVariableOp (ReadVariableOp) \n  sequential_7/dense_42/MatMul_12/ReadVariableOp (ReadVariableOp) \n  sequential_7/dense_42/MatMul_13/ReadVariableOp (ReadVariableOp) \n  sequential_7/dense_42/MatMul_14/ReadVariableOp (ReadVariableOp) \n  sequential_7/dense_42/MatMul_15/ReadVariableOp (ReadVariableOp) \n  sequential_7/dense_42/MatMul_16/ReadVariableOp (ReadVariableOp) \n  sequential_7/dense_42/MatMul_17/ReadVariableOp (ReadVariableOp) \n  Adam/Adam/update/ResourceApplyAdam (ResourceApplyAdam) /job:localhost/replica:0/task:0/device:GPU:0\n\n\t [[{{node sequential_7/dense_42/MatMul/ReadVariableOp}}]] [Op:__inference_train_step_58414]"
     ]
    }
   ],
   "source": [
    "# Comienzo del tiempo\n",
    "t0 = time.time()\n",
    "\n",
    "N = 20000  # Total de iteraciones\n",
    "\n",
    "# Función de entrenamiento\n",
    "\n",
    "for i in range(N+1):\n",
    "    loss, loss_r, loss_m, loss_i = train_step(nn, X_c, X_b_0, X_b_1, X_b_2, X_b_3, X_b_4)\n",
    "    loss_hist.append(loss.numpy())\n",
    "    loss_r_hist.append(loss_r.numpy())\n",
    "    loss_m_hist.append(loss_m.numpy())\n",
    "    loss_i_hist.append(loss_i.numpy())\n",
    "\n",
    "    # Salida después de 500 iteraciones\n",
    "    if i % 500 == 0:\n",
    "        print('It {:05d}: loss = {:10.8e}, loss_r = {:10.8e}, loss_m = {:10.8e}, loss_i = {:10.8e}'.format(i, loss, loss_r, loss_m, loss_i))\n",
    "\n",
    "# Mostrar tiempo de cálculo\n",
    "print('\\nComputation time: {} seconds'.format(time.time()-t0))\n"
   ]
  },
  {
   "cell_type": "code",
   "execution_count": 133,
   "metadata": {},
   "outputs": [
    {
     "name": "stdout",
     "output_type": "stream",
     "text": [
      "Iteration 30500: Loss = 1.639326e-03, Loss_r = 7.639137e-04, Loss_m = 9.644662e-05, Loss_i = 7.789662e-04\n",
      "Iteration 31000: Loss = 1.568741e-03, Loss_r = 7.359355e-04, Loss_m = 9.618921e-05, Loss_i = 7.366163e-04\n",
      "Iteration 31500: Loss = 1.498061e-03, Loss_r = 7.036533e-04, Loss_m = 9.026467e-05, Loss_i = 7.041428e-04\n",
      "Iteration 32000: Loss = 1.431043e-03, Loss_r = 6.725443e-04, Loss_m = 8.819291e-05, Loss_i = 6.703053e-04\n",
      "Iteration 32500: Loss = 1.372480e-03, Loss_r = 6.494693e-04, Loss_m = 8.702970e-05, Loss_i = 6.359810e-04\n",
      "Iteration 33000: Loss = 1.318218e-03, Loss_r = 6.202775e-04, Loss_m = 8.052499e-05, Loss_i = 6.174159e-04\n",
      "Iteration 33500: Loss = 1.263481e-03, Loss_r = 6.006497e-04, Loss_m = 8.091194e-05, Loss_i = 5.819195e-04\n",
      "Iteration 34000: Loss = 1.217237e-03, Loss_r = 5.765113e-04, Loss_m = 7.693186e-05, Loss_i = 5.637935e-04\n",
      "Iteration 34500: Loss = 1.166887e-03, Loss_r = 5.583321e-04, Loss_m = 7.546491e-05, Loss_i = 5.330903e-04\n",
      "Iteration 35000: Loss = 1.120209e-03, Loss_r = 5.350850e-04, Loss_m = 7.258811e-05, Loss_i = 5.125357e-04\n",
      "Iteration 35500: Loss = 1.076549e-03, Loss_r = 5.172829e-04, Loss_m = 7.432829e-05, Loss_i = 4.849376e-04\n",
      "Iteration 36000: Loss = 1.034751e-03, Loss_r = 5.057448e-04, Loss_m = 7.344743e-05, Loss_i = 4.555589e-04\n",
      "Iteration 36500: Loss = 9.919393e-04, Loss_r = 4.829654e-04, Loss_m = 6.916183e-05, Loss_i = 4.398121e-04\n",
      "Iteration 37000: Loss = 9.538339e-04, Loss_r = 4.636338e-04, Loss_m = 6.588934e-05, Loss_i = 4.243108e-04\n",
      "Iteration 37500: Loss = 9.106934e-04, Loss_r = 4.385082e-04, Loss_m = 6.541376e-05, Loss_i = 4.067714e-04\n",
      "Iteration 38000: Loss = 8.737465e-04, Loss_r = 4.219555e-04, Loss_m = 6.305581e-05, Loss_i = 3.887352e-04\n",
      "Iteration 38500: Loss = 8.392712e-04, Loss_r = 4.083790e-04, Loss_m = 6.040932e-05, Loss_i = 3.704830e-04\n",
      "Iteration 39000: Loss = 8.009268e-04, Loss_r = 3.902057e-04, Loss_m = 5.735073e-05, Loss_i = 3.533704e-04\n",
      "Iteration 39500: Loss = 7.663018e-04, Loss_r = 3.758860e-04, Loss_m = 5.364578e-05, Loss_i = 3.367700e-04\n",
      "Iteration 40000: Loss = 7.307760e-04, Loss_r = 3.553770e-04, Loss_m = 5.126552e-05, Loss_i = 3.241335e-04\n",
      "Iteration 40500: Loss = 6.961826e-04, Loss_r = 3.380980e-04, Loss_m = 5.069042e-05, Loss_i = 3.073941e-04\n",
      "Iteration 41000: Loss = 6.671373e-04, Loss_r = 3.179688e-04, Loss_m = 4.975448e-05, Loss_i = 2.994140e-04\n",
      "Iteration 41500: Loss = 6.396714e-04, Loss_r = 3.035112e-04, Loss_m = 4.731492e-05, Loss_i = 2.888453e-04\n",
      "Iteration 42000: Loss = 6.142445e-04, Loss_r = 2.912407e-04, Loss_m = 4.544123e-05, Loss_i = 2.775626e-04\n",
      "Iteration 42500: Loss = 5.903388e-04, Loss_r = 2.788637e-04, Loss_m = 4.497005e-05, Loss_i = 2.665051e-04\n",
      "Iteration 43000: Loss = 5.674379e-04, Loss_r = 2.683327e-04, Loss_m = 4.327978e-05, Loss_i = 2.558254e-04\n",
      "Iteration 43500: Loss = 5.455846e-04, Loss_r = 2.589142e-04, Loss_m = 4.233472e-05, Loss_i = 2.443357e-04\n",
      "Iteration 44000: Loss = 5.242533e-04, Loss_r = 2.497052e-04, Loss_m = 4.139712e-05, Loss_i = 2.331510e-04\n",
      "Iteration 44500: Loss = 5.041839e-04, Loss_r = 2.411733e-04, Loss_m = 4.120522e-05, Loss_i = 2.218053e-04\n",
      "Iteration 45000: Loss = 4.840788e-04, Loss_r = 2.307685e-04, Loss_m = 4.066777e-05, Loss_i = 2.126425e-04\n",
      "Iteration 45500: Loss = 4.638065e-04, Loss_r = 2.205780e-04, Loss_m = 3.894227e-05, Loss_i = 2.042862e-04\n",
      "Iteration 46000: Loss = 4.426903e-04, Loss_r = 2.115040e-04, Loss_m = 3.749155e-05, Loss_i = 1.936948e-04\n",
      "Iteration 46500: Loss = 4.252385e-04, Loss_r = 2.046862e-04, Loss_m = 3.535197e-05, Loss_i = 1.852003e-04\n",
      "Iteration 47000: Loss = 4.087031e-04, Loss_r = 1.978161e-04, Loss_m = 3.374493e-05, Loss_i = 1.771422e-04\n",
      "Iteration 47500: Loss = 3.941735e-04, Loss_r = 1.911274e-04, Loss_m = 3.215771e-05, Loss_i = 1.708883e-04\n",
      "Iteration 48000: Loss = 3.781436e-04, Loss_r = 1.828487e-04, Loss_m = 3.122200e-05, Loss_i = 1.640729e-04\n",
      "Iteration 48500: Loss = 3.649577e-04, Loss_r = 1.762074e-04, Loss_m = 2.936598e-05, Loss_i = 1.593843e-04\n",
      "Iteration 49000: Loss = 3.534417e-04, Loss_r = 1.709392e-04, Loss_m = 2.889129e-05, Loss_i = 1.536112e-04\n",
      "Iteration 49500: Loss = 3.407576e-04, Loss_r = 1.635009e-04, Loss_m = 2.839001e-05, Loss_i = 1.488667e-04\n",
      "Iteration 50000: Loss = 3.294873e-04, Loss_r = 1.581055e-04, Loss_m = 2.803429e-05, Loss_i = 1.433475e-04\n"
     ]
    }
   ],
   "source": [
    "#L-BGFS\n",
    "#20000 iteraciones con optimizador L-BGFS\n",
    "x0, _ = get_weight_tensor(nn)\n",
    "       \n",
    "result = minimize(fun=get_loss_and_grad, x0=x0, jac=True, method='L-BFGS-B', callback=callback, options={'maxiter': 20000, 'maxfun': 50000, 'maxcor': 50, 'maxls': 50, 'ftol': 1.0*np.finfo(float).eps})\n",
    "\n",
    "set_weight_tensor(nn, result.x)"
   ]
  },
  {
   "cell_type": "code",
   "execution_count": 134,
   "metadata": {
    "colab": {
     "base_uri": "https://localhost:8080/",
     "height": 430
    },
    "id": "dE1Ar__x9RiO",
    "outputId": "a360f71d-4794-44bf-a66c-bfbf4d46da7c"
   },
   "outputs": [
    {
     "data": {
      "image/png": "[encoded data removed]",
      "text/plain": [
       "<Figure size 432x288 with 1 Axes>"
      ]
     },
     "metadata": {
      "needs_background": "light"
     },
     "output_type": "display_data"
    }
   ],
   "source": [
    "# Loss plot\n",
    "fig, ax = plt.subplots()\n",
    "ax.plot(loss_hist, c='k', label='Loss data')\n",
    "ax.plot(loss_r_hist, c='r', label='Loss PDE')\n",
    "ax.plot(loss_m_hist, c='g', label='Loss BC')\n",
    "ax.plot(loss_i_hist, c='b', label='Loss IC')\n",
    "ax.set_yscale('log')\n",
    "ax.legend()\n",
    "plt.savefig('loss_plot.png')\n",
    "plt.show()"
   ]
  },
  {
   "cell_type": "code",
   "execution_count": 135,
   "metadata": {
    "colab": {
     "base_uri": "https://localhost:8080/"
    },
    "id": "-upWCYduASf2",
    "outputId": "b9d9107c-9c1a-4159-e03f-d33d97a683ef"
   },
   "outputs": [
    {
     "name": "stdout",
     "output_type": "stream",
     "text": [
      "0.0\n"
     ]
    }
   ],
   "source": [
    "n = 0 # Time step to evaluate\n",
    "te = t[n] # time evaluation\n",
    "print(te)\n",
    "\n",
    "# Crear una malla para x, y\n",
    "xp = np.linspace(0, 1, 100)\n",
    "yp = np.linspace(0, 1, 100)\n",
    "x_grid, y_grid = np.meshgrid(xp, yp)\n",
    "\n",
    "# Crear el tensor X para evaluación en t=1 y z=0\n",
    "X_eval = np.stack([x_grid.flatten(), y_grid.flatten(), te  + np.zeros_like(x_grid.flatten())], axis=1) # , np.full_like(x_grid.flatten(), 1)\n",
    "\n",
    "# Evaluar el modelo\n",
    "# model_values = model_eval(tf.constant(X_eval, dtype=tf.float32)).numpy()\n",
    "# model_values = model_values.reshape(x_grid.shape)\n",
    "model_predict = nn(tf.constant(X_eval, dtype=tf.float64)).numpy()\n",
    "h_predict = model_predict[:, 0:1].reshape(x_grid.shape)\n",
    "u_predict = model_predict[:, 1:2].reshape(x_grid.shape)\n",
    "v_predict = model_predict[:, 2:3].reshape(x_grid.shape)"
   ]
  },
  {
   "cell_type": "code",
   "execution_count": 136,
   "metadata": {},
   "outputs": [],
   "source": [
    "#model_predict"
   ]
  },
  {
   "cell_type": "code",
   "execution_count": 137,
   "metadata": {
    "colab": {
     "base_uri": "https://localhost:8080/",
     "height": 566
    },
    "id": "nHDK9jxEfesA",
    "outputId": "60d10248-6d72-4937-b23d-d031019f6ea2"
   },
   "outputs": [
    {
     "data": {
      "image/png": "[encoded data removed]",
      "text/plain": [
       "<Figure size 504x432 with 2 Axes>"
      ]
     },
     "metadata": {
      "needs_background": "light"
     },
     "output_type": "display_data"
    }
   ],
   "source": [
    "plot2D(x_grid, y_grid, h_predict, r'$h$ predicted')"
   ]
  },
  {
   "cell_type": "code",
   "execution_count": 138,
   "metadata": {},
   "outputs": [],
   "source": [
    "#nn.save('exp_2modelo_1_28Oct.h5')"
   ]
  },
  {
   "cell_type": "code",
   "execution_count": 139,
   "metadata": {
    "colab": {
     "base_uri": "https://localhost:8080/",
     "height": 564
    },
    "id": "Vjt17KsgjXnW",
    "outputId": "f998b0f1-84a3-43c2-acc8-cf00d9d604c2"
   },
   "outputs": [],
   "source": [
    "#plot2D(x, y, h[n], r'$h$')"
   ]
  },
  {
   "cell_type": "code",
   "execution_count": 140,
   "metadata": {},
   "outputs": [
    {
     "data": {
      "application/vnd.jupyter.widget-view+json": {
       "model_id": "af45aef3263c4816b5d8ed1ceb8b69cb",
       "version_major": 2,
       "version_minor": 0
      },
      "text/plain": [
       "interactive(children=(IntSlider(value=0, description='n', max=500), Output()), _dom_classes=('widget-interact'…"
      ]
     },
     "metadata": {},
     "output_type": "display_data"
    },
    {
     "data": {
      "text/plain": [
       "<function __main__.plot_h_predict(n)>"
      ]
     },
     "execution_count": 140,
     "metadata": {},
     "output_type": "execute_result"
    }
   ],
   "source": [
    "import numpy as np\n",
    "import matplotlib.pyplot as plt\n",
    "from ipywidgets import interact, IntSlider\n",
    "\n",
    "# Suponiendo que t, nn y otras variables necesarias ya están definidas en el contexto previo\n",
    "\n",
    "def plot_h_predict(n):\n",
    "    # Evaluación en el tiempo\n",
    "    te = t[n]\n",
    "    \n",
    "    # Crear una malla para x, y\n",
    "    xp = np.linspace(0, 1, 100)\n",
    "    yp = np.linspace(0, 1, 100)\n",
    "    x_grid, y_grid = np.meshgrid(xp, yp)\n",
    "\n",
    "    # Crear el tensor X para evaluación\n",
    "    X_eval = np.stack([x_grid.flatten(), y_grid.flatten(), te + np.zeros_like(x_grid.flatten())], axis=1)\n",
    "\n",
    "    # Evaluar el modelo\n",
    "    model_predict = nn(tf.constant(X_eval, dtype=tf.float64)).numpy()\n",
    "    h_predict = model_predict[:, 0:1].reshape(x_grid.shape)\n",
    "\n",
    "    # Graficar h_predict\n",
    "    plt.figure(figsize=(8, 6))\n",
    "    plt.contourf(x_grid, y_grid, h_predict, levels=50, cmap='jet')\n",
    "    plt.colorbar(label='h_predict')\n",
    "    plt.title(f'h_predict en el tiempo t = {te:.2f}')\n",
    "    plt.xlabel('x')\n",
    "    plt.ylabel('y')\n",
    "    plt.show()\n",
    "\n",
    "# Crear un deslizador interactivo para n\n",
    "interact(plot_h_predict, n=IntSlider(min=0, max=len(t)-1, step=1, value=0))\n",
    "\n"
   ]
  },
  {
   "cell_type": "code",
   "execution_count": 141,
   "metadata": {},
   "outputs": [
    {
     "data": {
      "application/vnd.jupyter.widget-view+json": {
       "model_id": "ad9bc0b5e2684ddbbf327ef7db296335",
       "version_major": 2,
       "version_minor": 0
      },
      "text/plain": [
       "interactive(children=(IntSlider(value=0, description='n', max=500), Output()), _dom_classes=('widget-interact'…"
      ]
     },
     "metadata": {},
     "output_type": "display_data"
    },
    {
     "data": {
      "text/plain": [
       "<function __main__.plot_h_predict(n)>"
      ]
     },
     "execution_count": 141,
     "metadata": {},
     "output_type": "execute_result"
    }
   ],
   "source": [
    "import numpy as np\n",
    "import matplotlib.pyplot as plt\n",
    "from ipywidgets import interact, IntSlider\n",
    "from mpl_toolkits.mplot3d import Axes3D  # Importar para gráficos 3D\n",
    "import tensorflow as tf\n",
    "\n",
    "# Suponiendo que t, nn y otras variables necesarias ya están definidas en el contexto previo\n",
    "\n",
    "# Determinar los límites de color para el colormap basados en los datos en n=0\n",
    "n_initial = 0\n",
    "te_initial = t[n_initial]\n",
    "X_eval_initial = np.stack([x_grid.flatten(), y_grid.flatten(), te_initial + np.zeros_like(x_grid.flatten())], axis=1)\n",
    "model_predict_initial = nn(tf.constant(X_eval_initial, dtype=tf.float64)).numpy()\n",
    "h_predict_initial = model_predict_initial[:, 0:1].reshape(x_grid.shape)\n",
    "vmin, vmax = h_predict_initial.min(), h_predict_initial.max()\n",
    "\n",
    "def plot_h_predict(n):\n",
    "    # Evaluación en el tiempo\n",
    "    te = t[n]\n",
    "    \n",
    "    # Crear una malla para x, y\n",
    "    xp = np.linspace(0, 1, 100)\n",
    "    yp = np.linspace(0, 1, 100)\n",
    "    x_grid, y_grid = np.meshgrid(xp, yp)\n",
    "\n",
    "    # Crear el tensor X para evaluación\n",
    "    X_eval = np.stack([x_grid.flatten(), y_grid.flatten(), te + np.zeros_like(x_grid.flatten())], axis=1)\n",
    "\n",
    "    # Evaluar el modelo\n",
    "    model_predict = nn(tf.constant(X_eval, dtype=tf.float64)).numpy()\n",
    "    h_predict = model_predict[:, 0:1].reshape(x_grid.shape)\n",
    "\n",
    "    # Graficar h_predict como una superficie\n",
    "    fig = plt.figure(figsize=(10, 8))\n",
    "    ax = fig.add_subplot(111, projection='3d')  # Crear un eje 3D\n",
    "    surf = ax.plot_surface(x_grid, y_grid, h_predict, cmap='jet', edgecolor='none', vmin=vmin, vmax=vmax)\n",
    "    fig.colorbar(surf, shrink=0.5, aspect=5, label='h_predict')\n",
    "    ax.set_title(f'h_predict en el tiempo t = {te:.2f}')\n",
    "    ax.set_xlabel('x')\n",
    "    ax.set_ylabel('y')\n",
    "    ax.set_zlabel('h_predict')\n",
    "\n",
    "    # Fijar los límites del eje z\n",
    "    ax.set_zlim([0.97, 1.1])\n",
    "\n",
    "    plt.show()\n",
    "\n",
    "# Crear un deslizador interactivo para n\n",
    "interact(plot_h_predict, n=IntSlider(min=0, max=len(t)-1, step=1, value=0))\n",
    "\n"
   ]
  },
  {
   "cell_type": "code",
   "execution_count": 179,
   "metadata": {
    "colab": {
     "base_uri": "https://localhost:8080/",
     "height": 566
    },
    "id": "h88ARknxkW3r",
    "outputId": "f88e0ead-6328-4ed5-8e5d-bbacf9c6583e"
   },
   "outputs": [
    {
     "data": {
      "image/png": "[encoded data removed]",
      "text/plain": [
       "<Figure size 504x432 with 2 Axes>"
      ]
     },
     "metadata": {
      "needs_background": "light"
     },
     "output_type": "display_data"
    }
   ],
   "source": [
    "plot2D(x_grid, y_grid, u_predict, r'$u$ predicted')"
   ]
  },
  {
   "cell_type": "code",
   "execution_count": 132,
   "metadata": {
    "colab": {
     "base_uri": "https://localhost:8080/",
     "height": 564
    },
    "id": "4D2B3LYmkZom",
    "outputId": "62fbf111-9701-4266-9970-c263cae2da1b"
   },
   "outputs": [
    {
     "ename": "IndexError",
     "evalue": "only integers, slices (`:`), ellipsis (`...`), numpy.newaxis (`None`) and integer or boolean arrays are valid indices",
     "output_type": "error",
     "traceback": [
      "\u001b[0;31m---------------------------------------------------------------------------\u001b[0m",
      "\u001b[0;31mIndexError\u001b[0m                                Traceback (most recent call last)",
      "Input \u001b[0;32mIn [132]\u001b[0m, in \u001b[0;36m<cell line: 1>\u001b[0;34m()\u001b[0m\n\u001b[0;32m----> 1\u001b[0m plot2D(x, y, \u001b[43mu\u001b[49m\u001b[43m[\u001b[49m\u001b[43mb\u001b[49m\u001b[43m]\u001b[49m, \u001b[38;5;124mr\u001b[39m\u001b[38;5;124m'\u001b[39m\u001b[38;5;124m$u$\u001b[39m\u001b[38;5;124m'\u001b[39m)\n",
      "\u001b[0;31mIndexError\u001b[0m: only integers, slices (`:`), ellipsis (`...`), numpy.newaxis (`None`) and integer or boolean arrays are valid indices"
     ]
    }
   ],
   "source": [
    "plot2D(x, y, u[b], r'$u$')"
   ]
  },
  {
   "cell_type": "code",
   "execution_count": null,
   "metadata": {
    "id": "JCWYccZwn5fR"
   },
   "outputs": [],
   "source": []
  }
 ],
 "metadata": {
  "accelerator": "GPU",
  "colab": {
   "gpuType": "T4",
   "provenance": []
  },
  "kernelspec": {
   "display_name": "Python 3 (ipykernel)",
   "language": "python",
   "name": "python3"
  },
  "language_info": {
   "codemirror_mode": {
    "name": "ipython",
    "version": 3
   },
   "file_extension": ".py",
   "mimetype": "text/x-python",
   "name": "python",
   "nbconvert_exporter": "python",
   "pygments_lexer": "ipython3",
   "version": "3.9.13"
  }
 },
 "nbformat": 4,
 "nbformat_minor": 1
}
